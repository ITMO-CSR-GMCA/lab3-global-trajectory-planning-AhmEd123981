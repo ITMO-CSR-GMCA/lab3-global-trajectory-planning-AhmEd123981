{
  "nbformat": 4,
  "nbformat_minor": 0,
  "metadata": {
    "colab": {
      "provenance": []
    },
    "kernelspec": {
      "name": "python3",
      "display_name": "Python 3"
    },
    "language_info": {
      "name": "python"
    }
  },
  "cells": [
    {
      "cell_type": "markdown",
      "source": [
        "# 2D Path Planning using Potential Field Method\n",
        "\n",
        "This notebook implements a path planning algorithm to navigate from a randomly chosen start point to a goal point in a 2D workspace, avoiding circular obstacles using the potential field method. The workspace (start, goal, and obstacles) is generated randomly with validation to ensure feasibility. The algorithm includes a mechanism to escape local minima and visualizes the path and potential field.\n",
        "\n",
        "The code is designed for Google Colab, requiring only NumPy and Matplotlib, which are pre-installed in Colab."
      ],
      "metadata": {
        "id": "yEe66rJh6fU4"
      }
    },
    {
      "cell_type": "code",
      "source": [
        "# Import required libraries\n",
        "import numpy as np\n",
        "import matplotlib.pyplot as plt\n",
        "\n",
        "# Set random seed for reproducibility of random workspace generation\n",
        "np.random.seed(42)\n",
        "\n",
        "# Define workspace boundaries (2D rectangular area)\n",
        "# X_MIN, X_MAX: x-coordinate bounds\n",
        "# Y_MIN, Y_MAX: y-coordinate bounds\n",
        "X_MIN, X_MAX = -1, 6\n",
        "Y_MIN, Y_MAX = -1, 6"
      ],
      "metadata": {
        "id": "IB_26rIw6fU8"
      },
      "execution_count": 1,
      "outputs": []
    },
    {
      "cell_type": "markdown",
      "source": [
        "## Workspace Generation\n",
        "\n",
        "The following functions generate a random workspace, including a start point, goal point, and circular obstacles. The `is_point_valid` function ensures points do not lie inside obstacles, and `generate_workspace` creates a feasible configuration where start and goal are sufficiently far apart, and obstacles do not overlap excessively with each other or the start/goal points."
      ],
      "metadata": {
        "id": "ROhbaK276fU_"
      }
    },
    {
      "cell_type": "code",
      "source": [
        "def is_point_valid(point, obstacles, min_dist=0.1):\n",
        "    \"\"\"Check if a point is not inside any obstacle.\n",
        "\n",
        "    Args:\n",
        "        point (np.ndarray): 2D point [x, y] to check.\n",
        "        obstacles (list): List of tuples [(center, radius), ...], where center is [x, y] and radius is a float.\n",
        "        min_dist (float): Minimum distance buffer from obstacle boundaries.\n",
        "\n",
        "    Returns:\n",
        "        bool: True if point is outside all obstacles, False otherwise.\n",
        "    \"\"\"\n",
        "    for (center, radius) in obstacles:\n",
        "        if np.linalg.norm(point - center) <= radius + min_dist:\n",
        "            return False\n",
        "    return True\n",
        "\n",
        "def generate_workspace(num_obstacles=3, min_radius=0.5, max_radius=1.0):\n",
        "    \"\"\"Generate random start point, goal point, and obstacles within the workspace.\n",
        "\n",
        "    Args:\n",
        "        num_obstacles (int): Number of circular obstacles to generate.\n",
        "        min_radius (float): Minimum radius of obstacles.\n",
        "        max_radius (float): Maximum radius of obstacles.\n",
        "\n",
        "    Returns:\n",
        "        tuple: (q_start, q_goal, obstacles), where q_start and q_goal are 2D points [x, y],\n",
        "               and obstacles is a list of [(center, radius), ...].\n",
        "    \"\"\"\n",
        "    while True:\n",
        "        # Randomly generate start and goal points within workspace bounds\n",
        "        q_start = np.random.uniform([X_MIN, Y_MIN], [X_MAX, Y_MAX])\n",
        "        q_goal = np.random.uniform([X_MIN, Y_MIN], [X_MAX, Y_MAX])\n",
        "        obstacles = []\n",
        "        # Ensure start and goal are at least 2 units apart for a meaningful path\n",
        "        if np.linalg.norm(q_start - q_goal) > 2.0:\n",
        "            for _ in range(num_obstacles):\n",
        "                while True:\n",
        "                    # Generate random obstacle center and radius\n",
        "                    center = np.random.uniform([X_MIN, Y_MIN], [X_MAX, Y_MAX])\n",
        "                    radius = np.random.uniform(min_radius, max_radius)\n",
        "                    obstacle = (center, radius)\n",
        "                    # Check if obstacle is valid (does not overlap with start, goal, or other obstacles)\n",
        "                    if (is_point_valid(center, obstacles) and\n",
        "                        is_point_valid(q_start, [obstacle]) and\n",
        "                        is_point_valid(q_goal, [obstacle])):\n",
        "                        obstacles.append(obstacle)\n",
        "                        break\n",
        "            if len(obstacles) == num_obstacles:\n",
        "                break\n",
        "    return q_start, q_goal, obstacles\n",
        "\n",
        "# Generate and print the workspace configuration\n",
        "q_start, q_goal, obstacles = generate_workspace(num_obstacles=3)\n",
        "print(f\"Start Point: {q_start}\")\n",
        "print(f\"Goal Point: {q_goal}\")\n",
        "print(f\"Obstacles: {obstacles}\")"
      ],
      "metadata": {
        "id": "kLjU771g6fVA",
        "outputId": "62a3980b-cf9a-42ed-ff89-2b27d829a4bb",
        "colab": {
          "base_uri": "https://localhost:8080/"
        }
      },
      "execution_count": 2,
      "outputs": [
        {
          "output_type": "stream",
          "name": "stdout",
          "text": [
            "Start Point: [1.62178083 5.65500014]\n",
            "Goal Point: [4.12395759 3.19060939]\n",
            "Obstacles: [(array([0.09213048, 0.09196164]), 0.5290418060840998), (array([-0.85590854,  5.78936897]), 0.9162213204002109), (array([1.1296957 , 2.67329502]), 0.7159725093210578)]\n"
          ]
        }
      ]
    },
    {
      "cell_type": "markdown",
      "source": [
        "## Potential Field Functions\n",
        "\n",
        "The potential field method models the workspace as a field where the goal attracts the robot (attractive potential) and obstacles repel it (repulsive potential). The total potential is the sum of these, and the robot moves along the negative gradient of the total potential. The following functions compute the potentials and their gradients."
      ],
      "metadata": {
        "id": "z3X1UTRk6fVB"
      }
    },
    {
      "cell_type": "code",
      "source": [
        "# Define potential field parameters\n",
        "K_att = 1.0    # Attractive gain (controls strength of attraction to goal)\n",
        "K_rep = 100.0  # Repulsive gain (controls strength of repulsion from obstacles)\n",
        "d0 = 1.0       # Obstacle influence radius (distance beyond which repulsion is zero)\n",
        "\n",
        "def U_att(q, q_goal):\n",
        "    \"\"\"Compute attractive potential (quadratic) toward the goal.\n",
        "\n",
        "    Args:\n",
        "        q (np.ndarray): Current position [x, y].\n",
        "        q_goal (np.ndarray): Goal position [x, y].\n",
        "\n",
        "    Returns:\n",
        "        float: Attractive potential value.\n",
        "    \"\"\"\n",
        "    return 0.5 * K_att * np.linalg.norm(q - q_goal)**2\n",
        "\n",
        "def U_rep(q, q_obs, radius):\n",
        "    \"\"\"Compute repulsive potential from a circular obstacle.\n",
        "\n",
        "    Args:\n",
        "        q (np.ndarray): Current position [x, y].\n",
        "        q_obs (np.ndarray): Obstacle center [x, y].\n",
        "        radius (float): Obstacle radius.\n",
        "\n",
        "    Returns:\n",
        "        float: Repulsive potential value (infinite if inside obstacle).\n",
        "    \"\"\"\n",
        "    d = np.linalg.norm(q - q_obs) - radius\n",
        "    if d <= 0:\n",
        "        return np.inf\n",
        "    if d <= d0:\n",
        "        return 0.5 * K_rep * (1.0/d - 1.0/d0)**2\n",
        "    return 0.0\n",
        "\n",
        "def grad_U_att(q, q_goal):\n",
        "    \"\"\"Compute gradient of attractive potential.\n",
        "\n",
        "    Args:\n",
        "        q (np.ndarray): Current position [x, y].\n",
        "        q_goal (np.ndarray): Goal position [x, y].\n",
        "\n",
        "    Returns:\n",
        "        np.ndarray: Gradient vector [dx, dy].\n",
        "    \"\"\"\n",
        "    return K_att * (q - q_goal)\n",
        "\n",
        "def grad_U_rep(q, q_obs, radius):\n",
        "    \"\"\"Compute gradient of repulsive potential.\n",
        "\n",
        "    Args:\n",
        "        q (np.ndarray): Current position [x, y].\n",
        "        q_obs (np.ndarray): Obstacle center [x, y].\n",
        "        radius (float): Obstacle radius.\n",
        "\n",
        "    Returns:\n",
        "        np.ndarray: Gradient vector [dx, dy].\n",
        "    \"\"\"\n",
        "    vec = q - q_obs\n",
        "    dist = np.linalg.norm(vec) - radius\n",
        "    if dist <= 0 or dist > d0:\n",
        "        return np.zeros(2)\n",
        "    d = dist\n",
        "    grad = K_rep * (1.0/d0 - 1.0/d) * (1.0/(d**2)) * (vec / np.linalg.norm(vec))\n",
        "    return grad\n",
        "\n",
        "def U_total(q):\n",
        "    \"\"\"Compute total potential at point q (sum of attractive and repulsive potentials).\n",
        "\n",
        "    Args:\n",
        "        q (np.ndarray): Current position [x, y].\n",
        "\n",
        "    Returns:\n",
        "        float: Total potential value.\n",
        "    \"\"\"\n",
        "    U = U_att(q, q_goal)\n",
        "    for (q_obs, rad) in obstacles:\n",
        "        U += U_rep(q, q_obs, rad)\n",
        "    return U\n",
        "\n",
        "def grad_U_total(q):\n",
        "    \"\"\"Compute gradient of total potential.\n",
        "\n",
        "    Args:\n",
        "        q (np.ndarray): Current position [x, y].\n",
        "\n",
        "    Returns:\n",
        "        np.ndarray: Gradient vector [dx, dy].\n",
        "    \"\"\"\n",
        "    grad = grad_U_att(q, q_goal)\n",
        "    for (q_obs, rad) in obstacles:\n",
        "        grad += grad_U_rep(q, q_obs, rad)\n",
        "    return grad"
      ],
      "metadata": {
        "id": "jUtRnlE26fVC"
      },
      "execution_count": 3,
      "outputs": []
    },
    {
      "cell_type": "markdown",
      "source": [
        "## Gradient Descent Path Planning\n",
        "\n",
        "The gradient descent algorithm moves the robot from the start point to the goal by following the negative gradient of the total potential. A perturbation mechanism helps escape local minima, and stagnation detection prevents the algorithm from running indefinitely if stuck."
      ],
      "metadata": {
        "id": "c7SVryK96fVC"
      }
    },
    {
      "cell_type": "code",
      "source": [
        "# Gradient descent parameters\n",
        "step_size = 0.1           # Size of each step along the negative gradient\n",
        "max_iters = 1000          # Maximum number of iterations\n",
        "tolerance = 0.1           # Distance to goal to consider it reached\n",
        "min_step_threshold = 1e-4 # Threshold for detecting stagnation (small movement)\n",
        "perturbation_scale = 0.5  # Scale for random perturbations to escape local minima\n",
        "\n",
        "# Initialize path with the start point\n",
        "path = [q_start.copy()]\n",
        "q = q_start.copy()        # Current position\n",
        "prev_q = q.copy()         # Previous position for stagnation detection\n",
        "stagnation_count = 0      # Counter for stagnation detection\n",
        "max_stagnation = 50      # Max iterations to consider stagnation\n",
        "\n",
        "for i in range(max_iters):\n",
        "    # Compute the gradient of the total potential at current position\n",
        "    grad = grad_U_total(q)\n",
        "    if np.linalg.norm(grad) < 1e-6:  # Check for near-zero gradient (local minimum)\n",
        "        # Apply random perturbation to escape potential local minimum\n",
        "        q = q + np.random.uniform(-perturbation_scale, perturbation_scale, size=2)\n",
        "        if not is_point_valid(q, obstacles):\n",
        "            q = prev_q  # Revert to previous position if perturbation lands inside obstacle\n",
        "        stagnation_count += 1\n",
        "    else:\n",
        "        # Move in the direction of the negative gradient\n",
        "        q = q - step_size * grad\n",
        "        if not is_point_valid(q, obstacles):\n",
        "            q = prev_q  # Revert to previous position if step lands inside obstacle\n",
        "        stagnation_count = 0\n",
        "    path.append(q.copy())\n",
        "\n",
        "    # Check for stagnation (negligible movement)\n",
        "    if np.linalg.norm(q - prev_q) < min_step_threshold:\n",
        "        stagnation_count += 1\n",
        "    else:\n",
        "        stagnation_count = 0\n",
        "    prev_q = q.copy()\n",
        "\n",
        "    # Check if goal is reached (within tolerance)\n",
        "    if np.linalg.norm(q - q_goal) < tolerance:\n",
        "        print(f\"Reached goal in {i+1} steps.\")\n",
        "        break\n",
        "    # Check for stagnation\n",
        "    if stagnation_count > max_stagnation:\n",
        "        print(f\"Stagnation detected after {i+1} steps.\")\n",
        "        break\n",
        "else:\n",
        "    print(\"Max iterations reached before reaching goal.\")\n",
        "\n",
        "# Convert path to numpy array for plotting\n",
        "path = np.array(path)"
      ],
      "metadata": {
        "id": "eX_i9Obh6fVD",
        "outputId": "dd4500c8-bffb-4c31-a4f1-0fabcaa53d14",
        "colab": {
          "base_uri": "https://localhost:8080/"
        }
      },
      "execution_count": 4,
      "outputs": [
        {
          "output_type": "stream",
          "name": "stdout",
          "text": [
            "Reached goal in 34 steps.\n"
          ]
        }
      ]
    },
    {
      "cell_type": "markdown",
      "source": [
        "## Visualization\n",
        "\n",
        "This cell visualizes the workspace, including the start point (green circle), goal point (red star), obstacles (red circles), and the computed path (blue line). Contours of the total potential field are plotted to illustrate the attractive and repulsive forces influencing the path."
      ],
      "metadata": {
        "id": "sa9SO1546fVD"
      }
    },
    {
      "cell_type": "code",
      "source": [
        "# Create a figure for visualization\n",
        "fig, ax = plt.subplots(figsize=(8, 8))\n",
        "\n",
        "# Plot obstacles as red circles\n",
        "for (q_obs, rad) in obstacles:\n",
        "    circle = plt.Circle(q_obs, rad, color='red', alpha=0.5, label='Obstacle' if q_obs is obstacles[0][0] else \"\")\n",
        "    ax.add_patch(circle)\n",
        "\n",
        "# Plot start point (green circle) and goal point (red star)\n",
        "ax.plot(q_start[0], q_start[1], 'go', label='Start', markersize=10)\n",
        "ax.plot(q_goal[0], q_goal[1], 'r*', label='Goal', markersize=15)\n",
        "\n",
        "# Plot the computed path as a blue line\n",
        "ax.plot(path[:, 0], path[:, 1], 'b-', label='Path')\n",
        "\n",
        "# Generate potential field contours for visualization\n",
        "x = np.linspace(X_MIN, X_MAX, 100)\n",
        "y = np.linspace(Y_MIN, Y_MAX, 100)\n",
        "X, Y = np.meshgrid(x, y)\n",
        "Z = np.zeros_like(X)\n",
        "for i in range(X.shape[0]):\n",
        "    for j in range(X.shape[1]):\n",
        "        Z[i, j] = U_total(np.array([X[i, j], Y[i, j]]))\n",
        "        if np.isinf(Z[i, j]):\n",
        "            Z[i, j] = np.nan  # Replace infinite potentials (inside obstacles) with NaN to avoid plotting issues\n",
        "ax.contour(X, Y, Z, levels=20, cmap='viridis', alpha=0.3)\n",
        "\n",
        "# Add legend, set plot limits, and labels\n",
        "ax.legend()\n",
        "ax.set_xlim(X_MIN, X_MAX)\n",
        "ax.set_ylim(Y_MIN, Y_MAX)\n",
        "ax.set_title(\"2D Path Planning using Potential Field Method\")\n",
        "ax.set_xlabel('X (meters)')\n",
        "ax.set_ylabel('Y (meters)')\n",
        "ax.grid(True)\n",
        "plt.show()"
      ],
      "metadata": {
        "id": "_4rCJ8B56fVE",
        "outputId": "206db504-42af-4889-d42e-7b0835ca9f5d",
        "colab": {
          "base_uri": "https://localhost:8080/",
          "height": 718
        }
      },
      "execution_count": 5,
      "outputs": [
        {
          "output_type": "display_data",
          "data": {
            "text/plain": [
              "<Figure size 800x800 with 1 Axes>"
            ],
            "image/png": "[encoded data removed]"
          },
          "metadata": {}
        }
      ]
    }
  ]
}